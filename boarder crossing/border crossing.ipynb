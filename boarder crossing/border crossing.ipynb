{
 "cells": [
  {
   "cell_type": "code",
   "execution_count": 8,
   "metadata": {
    "colab": {
     "base_uri": "https://localhost:8080/",
     "height": 339
    },
    "executionInfo": {
     "elapsed": 4,
     "status": "error",
     "timestamp": 1666336666020,
     "user": {
      "displayName": "Shubham Dankhara",
      "userId": "04857720951725241018"
     },
     "user_tz": -330
    },
    "id": "hmEcBIr8F1z7",
    "outputId": "2f1dcda0-607f-4391-dac6-47e1ec84cfdf"
   },
   "outputs": [],
   "source": [
    "import os\n",
    "import json\n",
    "from urllib.request import urlretrieve\n",
    "import sys\n",
    "\n",
    "sys.path.append('your path to/port_entries')\n",
    "import port_entries.find"
   ]
  },
  {
   "cell_type": "markdown",
   "metadata": {
    "id": "PlTicq5MGDpS"
   },
   "source": [
    "# 2"
   ]
  },
  {
   "cell_type": "code",
   "execution_count": 13,
   "metadata": {
    "colab": {
     "base_uri": "https://localhost:8080/",
     "height": 165
    },
    "executionInfo": {
     "elapsed": 5,
     "status": "error",
     "timestamp": 1666336594672,
     "user": {
      "displayName": "Shubham Dankhara",
      "userId": "04857720951725241018"
     },
     "user_tz": -330
    },
    "id": "qrXE8UeFFhnk",
    "outputId": "3b433295-0f8c-42ca-9074-a08fc9b35c1c"
   },
   "outputs": [
    {
     "data": {
      "text/plain": [
       "[(3302, 'Eastport', 'Idaho'), (3308, 'Porthill', 'Idaho')]"
      ]
     },
     "execution_count": 13,
     "metadata": {},
     "output_type": "execute_result"
    }
   ],
   "source": [
    "port_entries.find.port_by_state('Idaho')"
   ]
  },
  {
   "cell_type": "code",
   "execution_count": 40,
   "metadata": {},
   "outputs": [
    {
     "name": "stdout",
     "output_type": "stream",
     "text": [
      "3302 : Eastport, Idaho\n",
      "3308 : Porthill, Idaho\n"
     ]
    }
   ],
   "source": [
    "%run -m port_entries.find -s Idaho"
   ]
  },
  {
   "cell_type": "code",
   "execution_count": 41,
   "metadata": {},
   "outputs": [
    {
     "name": "stdout",
     "output_type": "stream",
     "text": [
      "3302 : Eastport, Idaho\n"
     ]
    }
   ],
   "source": [
    "%run -m port_entries.find -n Eastport -s Idaho"
   ]
  },
  {
   "cell_type": "code",
   "execution_count": 42,
   "metadata": {},
   "outputs": [
    {
     "name": "stdout",
     "output_type": "stream",
     "text": [
      "3302 : Eastport, Idaho\n",
      "103 : Eastport, Maine\n"
     ]
    }
   ],
   "source": [
    "%run -m port_entries.find -n Eastport"
   ]
  },
  {
   "cell_type": "code",
   "execution_count": null,
   "metadata": {},
   "outputs": [],
   "source": []
  }
 ],
 "metadata": {
  "colab": {
   "collapsed_sections": [],
   "provenance": []
  },
  "interpreter": {
   "hash": "0ffb6ad3ddc9a3eed4fab6da7ebd10ba38753f11748af7333f37886fee089390"
  },
  "kernelspec": {
   "display_name": "Python 3 (ipykernel)",
   "language": "python",
   "name": "python3"
  },
  "language_info": {
   "codemirror_mode": {
    "name": "ipython",
    "version": 3
   },
   "file_extension": ".py",
   "mimetype": "text/x-python",
   "name": "python",
   "nbconvert_exporter": "python",
   "pygments_lexer": "ipython3",
   "version": "3.7.7"
  }
 },
 "nbformat": 4,
 "nbformat_minor": 1
}
