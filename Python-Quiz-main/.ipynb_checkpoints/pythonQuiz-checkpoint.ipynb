{
 "cells": [
  {
   "cell_type": "markdown",
   "metadata": {
    "colab_type": "text",
    "id": "view-in-github"
   },
   "source": [
    "<a href=\"https://colab.research.google.com/github/Lakhankumawat/Python-Quiz/blob/main/pythonQuiz.ipynb\" target=\"_parent\"><img src=\"https://colab.research.google.com/assets/colab-badge.svg\" alt=\"Open In Colab\"/></a>"
   ]
  },
  {
   "cell_type": "markdown",
   "metadata": {
    "id": "XezmL5su723M"
   },
   "source": [
    "## 🙂 Welcome To Python-Quiz by [techwithintim](https://github.com/techwithtim)\n",
    "<br><hr><br>\n",
    " 👇 Here are some quizes try to solve them \n",
    "\n"
   ]
  },
  {
   "cell_type": "code",
   "execution_count": 3,
   "metadata": {
    "id": "mHiZV8Vb8zse"
   },
   "outputs": [
    {
     "name": "stdout",
     "output_type": "stream",
     "text": [
      "hellohellohellohellohello\n"
     ]
    }
   ],
   "source": [
    "def q1():\n",
    "\tprint(\"hello\" * 5)\n",
    "    \n",
    "# My prediction\n",
    "#hello hello hello hello hello\n",
    "q1()"
   ]
  },
  {
   "cell_type": "code",
   "execution_count": 4,
   "metadata": {},
   "outputs": [
    {
     "name": "stdout",
     "output_type": "stream",
     "text": [
      "5\n",
      "4\n"
     ]
    }
   ],
   "source": [
    "def q2():\n",
    "\tx, y = 4, 5\n",
    "\ty, x = x, y\n",
    "\tprint(x)\n",
    "\tprint(y)\n",
    "\n",
    "# x=5 y=4\n",
    "q2()"
   ]
  },
  {
   "cell_type": "code",
   "execution_count": 5,
   "metadata": {},
   "outputs": [
    {
     "name": "stdout",
     "output_type": "stream",
     "text": [
      "[0, 0, 0, 0, 0, 0, 0, 0]\n"
     ]
    }
   ],
   "source": [
    "def q3():\n",
    "\tz = 9\n",
    "\tlst = [0] * z\n",
    "\tprint(lst[:-1])\n",
    "\n",
    "# 00000000\n",
    "q3()"
   ]
  },
  {
   "cell_type": "code",
   "execution_count": 6,
   "metadata": {},
   "outputs": [
    {
     "name": "stdout",
     "output_type": "stream",
     "text": [
      "[0, 16, 64]\n"
     ]
    }
   ],
   "source": [
    "def q4():\n",
    "\tdef help(x):\n",
    "\t\treturn x % 2 == 0\n",
    "\n",
    "\tlst = [i**2 for i in range(10)] \n",
    "\tlst = filter(help, lst) \n",
    "\tprint(list(lst)[::2]) \n",
    "\n",
    "# 0 16 64 \n",
    "q4()"
   ]
  },
  {
   "cell_type": "code",
   "execution_count": 7,
   "metadata": {},
   "outputs": [
    {
     "name": "stdout",
     "output_type": "stream",
     "text": [
      "0\n",
      "1\n",
      "1\n",
      "2\n",
      "2\n",
      "3\n"
     ]
    }
   ],
   "source": [
    "def q5():\n",
    "\tz = 0\n",
    "\tfor i in range(1, 10):\n",
    "\t\tif (i + 1 // 2) % 7 == 0:\n",
    "\t\t\tbreak\n",
    "\t\telse:\n",
    "\t\t\tz += int(i % 2 == 0)\n",
    "\t\t\tprint(z)\n",
    "\telse:\n",
    "\t\tprint('end')\n",
    "\n",
    "# 4 end\n",
    "q5()"
   ]
  },
  {
   "cell_type": "code",
   "execution_count": 2,
   "metadata": {},
   "outputs": [
    {
     "name": "stdout",
     "output_type": "stream",
     "text": [
      "no\n"
     ]
    }
   ],
   "source": [
    "def q6():\n",
    "\timport math\n",
    "\n",
    "\tfor i in range(1, 100):\n",
    "\t\tif math.sqrt(i) == (i - 5)**2:\n",
    "\t\t\tprint(i)\n",
    "\t\t\tbreak\n",
    "\telse:\n",
    "\t\tprint('no')\n",
    "\n",
    "#no\n",
    "q6()"
   ]
  },
  {
   "cell_type": "code",
   "execution_count": 8,
   "metadata": {},
   "outputs": [
    {
     "name": "stdout",
     "output_type": "stream",
     "text": [
      "True\n",
      "False\n",
      "False\n",
      "True\n",
      "True\n"
     ]
    }
   ],
   "source": [
    "def q7():\n",
    "\tclass A:\n",
    "\t\tdef __init__(self, x):\n",
    "\t\t\tself.x = x\n",
    "\n",
    "\t\tdef __eq__(self, o):\n",
    "\t\t\treturn self.x == o.x\n",
    "\n",
    "\ta = A(2)\n",
    "\tb = A(2)\n",
    "\tprint(a == b)\n",
    "\tprint(a is b)\n",
    "\tprint(b is a)\n",
    "\tprint(a is a)\n",
    "\tprint(a == a)\n",
    "\n",
    "# True False False True True\n",
    "q7()"
   ]
  },
  {
   "cell_type": "code",
   "execution_count": 9,
   "metadata": {},
   "outputs": [
    {
     "name": "stdout",
     "output_type": "stream",
     "text": [
      "2 4\n",
      "5 4\n",
      "4 7\n"
     ]
    }
   ],
   "source": [
    "def q8():\n",
    "\tclass A:\n",
    "\t\tdef __init__(self, x, y):\n",
    "\t\t\tself.x = x\n",
    "\t\t\tself.y = y\n",
    "\n",
    "\t\tdef print(self):\n",
    "\t\t\tprint(self.x, self.y)\n",
    "\n",
    "\tclass B(A):\n",
    "\t\tdef print(self):\n",
    "\t\t\tprint(self.y, self.x)\n",
    "\n",
    "\tclass C(B):\n",
    "\t\tdef __init__(self, x, y, z):\n",
    "\t\t\tsuper().__init__(x, y)\n",
    "\t\t\tself.z = z\n",
    "\n",
    "\td = A(2, 4)\n",
    "\te = B(4, 5)\n",
    "\tg = C(3, 4, 7)\n",
    "\tg.x = g.z\n",
    "\td.print()\n",
    "\te.print()\n",
    "\tg.print()\n",
    "\n",
    "# 2,4 4,2 4,7\n",
    "q8()"
   ]
  },
  {
   "cell_type": "code",
   "execution_count": 10,
   "metadata": {},
   "outputs": [
    {
     "name": "stdout",
     "output_type": "stream",
     "text": [
      "-1\n",
      "2\n",
      "5\n",
      "8\n",
      "11\n",
      "14\n",
      "17\n",
      "20\n",
      "23\n",
      "26\n"
     ]
    }
   ],
   "source": [
    "def q9():\n",
    "\tdef x(z):\n",
    "\t\tdef q(x, y):\n",
    "\t\t\tx = y + z + x\n",
    "\t\t\tprint(x)\n",
    "\n",
    "\t\treturn q\n",
    "\n",
    "\tfor i in range(10):\n",
    "\t\tfunc = x(i)\n",
    "\t\tfunc(i, i-1)\n",
    "\n",
    "# -1 2 5 8 11 14 17 20 23 26\n",
    "q9()"
   ]
  },
  {
   "cell_type": "code",
   "execution_count": 11,
   "metadata": {},
   "outputs": [
    {
     "name": "stdout",
     "output_type": "stream",
     "text": [
      "7\n"
     ]
    }
   ],
   "source": [
    "def q10():\n",
    "\tdef d(f):\n",
    "\t\tdef w(*args, **kwargs):\n",
    "\t\t\tr = f(*args, **kwargs) \n",
    "\t\t\tr += 1 \n",
    "\t\t\treturn r \n",
    "\n",
    "\t\treturn w\n",
    "\n",
    "\t@d\n",
    "\tdef a(x):\n",
    "\t\treturn x + 1\n",
    "\n",
    "\tprint(a(5))\n",
    "\n",
    "# 7\n",
    "q10()"
   ]
  },
  {
   "cell_type": "code",
   "execution_count": 12,
   "metadata": {},
   "outputs": [
    {
     "name": "stdout",
     "output_type": "stream",
     "text": [
      "b c d\n"
     ]
    }
   ],
   "source": [
    "def q11():\n",
    "\tprint(*list(map(lambda x: chr(ord(x) + 1), [\"a\", \"b\", \"c\"])))\n",
    "\n",
    "\n",
    "# b c d\n",
    "q11()"
   ]
  },
  {
   "cell_type": "code",
   "execution_count": 13,
   "metadata": {},
   "outputs": [
    {
     "name": "stdout",
     "output_type": "stream",
     "text": [
      "True\n"
     ]
    }
   ],
   "source": [
    "def q12():\n",
    "\tx = 0.1\n",
    "\ty = 0.10000000000000001\n",
    "\tprint(x == y)\n",
    "\n",
    "# False\n",
    "q12()"
   ]
  },
  {
   "cell_type": "code",
   "execution_count": 14,
   "metadata": {},
   "outputs": [
    {
     "name": "stdout",
     "output_type": "stream",
     "text": [
      "True\n"
     ]
    }
   ],
   "source": [
    "def q13():\n",
    "\tx = [True, 1, \"a\", \"b\", \"2\"]\n",
    "\tprint(any(x)) \n",
    "\n",
    "# True\n",
    "q13()"
   ]
  },
  {
   "cell_type": "code",
   "execution_count": 15,
   "metadata": {},
   "outputs": [
    {
     "name": "stdout",
     "output_type": "stream",
     "text": [
      "['a', 7, 9, 2, 4]\n",
      "['a', 7, 9, 2, 4]\n",
      "['a', 7, 9, 2, 4]\n"
     ]
    }
   ],
   "source": [
    "def q14():\n",
    "\tx = [\"a\", 1, 2, 3, 4]\n",
    "\ty = z = x\n",
    "\tz[1] = 7\n",
    "\ty[3] = 2\n",
    "\tx[2] = 9\n",
    "\tprint(x)\n",
    "\tprint(y)\n",
    "\tprint(z)\n",
    "\n",
    "# [\"a\", 7, 9, 2, 4] [\"a\", 7, 9, 2, 4] [\"a\", 7, 9, 2, 4]\n",
    "q14()"
   ]
  },
  {
   "cell_type": "code",
   "execution_count": 16,
   "metadata": {},
   "outputs": [
    {
     "name": "stdout",
     "output_type": "stream",
     "text": [
      "True\n",
      "False\n"
     ]
    }
   ],
   "source": [
    "def q15():\n",
    "\tprint(1 == True)\n",
    "\tprint(\"1\" == 1)\n",
    "\n",
    "# True False\n",
    "q15()"
   ]
  },
  {
   "cell_type": "code",
   "execution_count": 17,
   "metadata": {},
   "outputs": [
    {
     "name": "stdout",
     "output_type": "stream",
     "text": [
      "b'10011010'\n"
     ]
    }
   ],
   "source": [
    "def q16():\n",
    "\tx = b'1001'\n",
    "\ty = b'1010'\n",
    "\tz = x + y\n",
    "\tprint(z)\n",
    "\n",
    "# 10011010\n",
    "q16()"
   ]
  },
  {
   "cell_type": "code",
   "execution_count": 18,
   "metadata": {},
   "outputs": [
    {
     "name": "stdout",
     "output_type": "stream",
     "text": [
      "19\n"
     ]
    }
   ],
   "source": [
    "def q17():\n",
    "\tx = 0b1001\n",
    "\ty = 0b1010\n",
    "\tz = x + y\n",
    "\tprint(z)\n",
    "    \n",
    "# 19\n",
    "q17()"
   ]
  },
  {
   "cell_type": "code",
   "execution_count": null,
   "metadata": {},
   "outputs": [],
   "source": []
  }
 ],
 "metadata": {
  "colab": {
   "authorship_tag": "ABX9TyPcQPkeTkqZmmXD29iB4tCE",
   "collapsed_sections": [],
   "include_colab_link": true,
   "name": "pythonQuiz.ipynb",
   "provenance": []
  },
  "kernelspec": {
   "display_name": "Python 3",
   "language": "python",
   "name": "python3"
  },
  "language_info": {
   "codemirror_mode": {
    "name": "ipython",
    "version": 3
   },
   "file_extension": ".py",
   "mimetype": "text/x-python",
   "name": "python",
   "nbconvert_exporter": "python",
   "pygments_lexer": "ipython3",
   "version": "3.7.7"
  }
 },
 "nbformat": 4,
 "nbformat_minor": 1
}
