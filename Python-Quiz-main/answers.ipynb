{
  "nbformat": 4,
  "nbformat_minor": 0,
  "metadata": {
    "colab": {
      "name": "answers.ipynb",
      "provenance": [],
      "collapsed_sections": [],
      "authorship_tag": "ABX9TyNaPcU3UJAjfcKwGvcsb/Wf",
      "include_colab_link": true
    },
    "kernelspec": {
      "name": "python3",
      "display_name": "Python 3"
    }
  },
  "cells": [
    {
      "cell_type": "markdown",
      "metadata": {
        "id": "view-in-github",
        "colab_type": "text"
      },
      "source": [
        "<a href=\"https://colab.research.google.com/github/Lakhankumawat/Python-Quiz/blob/main/answers.ipynb\" target=\"_parent\"><img src=\"https://colab.research.google.com/assets/colab-badge.svg\" alt=\"Open In Colab\"/></a>"
      ]
    },
    {
      "cell_type": "markdown",
      "metadata": {
        "id": "u9U9KNTJ9yfz"
      },
      "source": [
        "\r\n",
        "<h2>  Answers Section </h2>\r\n",
        "\r\n",
        "\r\n"
      ]
    },
    {
      "cell_type": "code",
      "metadata": {
        "id": "lJvaA4ZL93U6"
      },
      "source": [
        "# Q1\r\n",
        "hellohellohellohellohello\r\n",
        "\r\n",
        "# Q2\r\n",
        "5\r\n",
        "4\r\n",
        "\r\n",
        "# Q3\r\n",
        "[0, 0, 0, 0, 0, 0, 0, 0]\r\n",
        "\r\n",
        "# Q4\r\n",
        "[0, 16, 64]\r\n",
        "\r\n",
        "# Q5\r\n",
        "0\r\n",
        "1\r\n",
        "1\r\n",
        "2\r\n",
        "2\r\n",
        "3\r\n",
        "\r\n",
        "# Q6\r\n",
        "no\r\n",
        "\r\n",
        "# Q7\r\n",
        "True\r\n",
        "False\r\n",
        "False\r\n",
        "True\r\n",
        "True\r\n",
        "\r\n",
        "# Q8\r\n",
        "2 4\r\n",
        "5 4\r\n",
        "4 7\r\n",
        "\r\n",
        "# Q9\r\n",
        "-1\r\n",
        "2\r\n",
        "5\r\n",
        "8\r\n",
        "11\r\n",
        "14\r\n",
        "17\r\n",
        "20\r\n",
        "23\r\n",
        "26\r\n",
        "\r\n",
        "# Q10\r\n",
        "7\r\n",
        "\r\n",
        "# Q11\r\n",
        "b c d\r\n",
        "\r\n",
        "# Q12\r\n",
        "True\r\n",
        "\r\n",
        "# Q13\r\n",
        "True\r\n",
        "\r\n",
        "# Q14\r\n",
        "['a', 7, 9, 2, 4]\r\n",
        "['a', 7, 9, 2, 4]\r\n",
        "['a', 7, 9, 2, 4]\r\n",
        "\r\n",
        "# Q15\r\n",
        "True\r\n",
        "False\r\n",
        "\r\n",
        "# Q16\r\n",
        "b'10011010'\r\n",
        "\r\n",
        "# Q17\r\n",
        "19"
      ],
      "execution_count": null,
      "outputs": []
    }
  ]
}