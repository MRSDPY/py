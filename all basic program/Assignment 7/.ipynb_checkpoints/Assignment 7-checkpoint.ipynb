{
 "cells": [
  {
   "cell_type": "code",
   "execution_count": 93,
   "id": "c4b3c684",
   "metadata": {},
   "outputs": [],
   "source": [
    "import pandas as p\n",
    "import numpy as n\n",
    "import requests as r\n",
    "import os\n",
    "import zipfile\n",
    "import glob"
   ]
  },
  {
   "cell_type": "code",
   "execution_count": null,
   "id": "20ab9b01",
   "metadata": {},
   "outputs": [],
   "source": []
  },
  {
   "cell_type": "code",
   "execution_count": 13,
   "id": "0b420a44",
   "metadata": {},
   "outputs": [],
   "source": [
    "_FILECONST = \"{START}_million_to_{END}_million.zip\""
   ]
  },
  {
   "cell_type": "code",
   "execution_count": 8,
   "id": "77206fce",
   "metadata": {},
   "outputs": [],
   "source": [
    "sd = [(75,79), (80,99), (100,119), (120,199), (200,249), (250,999)]"
   ]
  },
  {
   "cell_type": "code",
   "execution_count": 12,
   "id": "94567167",
   "metadata": {},
   "outputs": [],
   "source": [
    "if not os.path.exists(\"extract\"):\n",
    "    os.mkdir(\"extract\")"
   ]
  },
  {
   "cell_type": "code",
   "execution_count": 15,
   "id": "18b2e30b",
   "metadata": {},
   "outputs": [],
   "source": [
    "for i in sd:\n",
    "    if not os.path.exists(_FILECONST.format(START=i[0], END=i[1])):\n",
    "        data = r.get(\"https://faculty.cs.niu.edu/~dakoop/cs503-2022fa/a7/\" + _FILECONST.format(START=i[0], END=i[1]))\n",
    "        open(_FILECONST.format(START=i[0], END=i[1]), 'wb').write(data.content)"
   ]
  },
  {
   "cell_type": "code",
   "execution_count": null,
   "id": "e9dc9767",
   "metadata": {},
   "outputs": [],
   "source": []
  },
  {
   "cell_type": "code",
   "execution_count": 19,
   "id": "99b1f3f3",
   "metadata": {},
   "outputs": [],
   "source": [
    "for i in sd:\n",
    "    if os.path.exists(_FILECONST.format(START=i[0], END=i[1])):\n",
    "        with zipfile.ZipFile(_FILECONST.format(START=i[0], END=i[1])) as zf:\n",
    "            zf.extractall(\"extract\")"
   ]
  },
  {
   "cell_type": "code",
   "execution_count": null,
   "id": "17ec217c",
   "metadata": {},
   "outputs": [],
   "source": []
  },
  {
   "cell_type": "code",
   "execution_count": 102,
   "id": "da68f180",
   "metadata": {},
   "outputs": [],
   "source": [
    "def get_path(dirs, fileext):\n",
    "    return glob.glob(os.path.join(dirs,\"**/*.{}\".format(fileext)), recursive=True)"
   ]
  },
  {
   "cell_type": "code",
   "execution_count": 104,
   "id": "78e2f825",
   "metadata": {},
   "outputs": [],
   "source": [
    "list_npy = get_path(r\"S:/GitHub Upload/All python programs/Assignment 7/extract/\", \"npy\")"
   ]
  },
  {
   "cell_type": "code",
   "execution_count": null,
   "id": "940a7404",
   "metadata": {},
   "outputs": [],
   "source": []
  },
  {
   "cell_type": "code",
   "execution_count": 142,
   "id": "ad00f36f",
   "metadata": {},
   "outputs": [
    {
     "name": "stdout",
     "output_type": "stream",
     "text": [
      "32\n"
     ]
    },
    {
     "data": {
      "text/plain": [
       "[2,\n",
       " 3,\n",
       " 2,\n",
       " 2,\n",
       " 1,\n",
       " 3,\n",
       " 7,\n",
       " 20211101,\n",
       " 20211201,\n",
       " 20220101,\n",
       " 20220201,\n",
       " 20220301,\n",
       " 20220401,\n",
       " 20220501,\n",
       " 20220601,\n",
       " 20220701,\n",
       " 20220801,\n",
       " 20220901,\n",
       " 20221001]"
      ]
     },
     "execution_count": 142,
     "metadata": {},
     "output_type": "execute_result"
    }
   ],
   "source": [
    "# for i in range(0, len(list_npy)):\n",
    "#     print(list_npy[i].split(\"\\\\\")[-1], \" : \", n.load(list_npy[i], allow_pickle=True))\n",
    "#     print(i)\n",
    "print(len(list_npy))\n",
    "h=[2,3,2,2,1,3,7]\n",
    "h[len(h):] = n.load(list_npy[2])[0].tolist()\n",
    "h"
   ]
  },
  {
   "cell_type": "code",
   "execution_count": 164,
   "id": "068a0fca",
   "metadata": {},
   "outputs": [],
   "source": [
    "datas = {\"Date\": [], \"Views\": [],\"Artist\":[]}\n",
    "\n",
    "for i in range(0, len(list_npy)):\n",
    "    s = n.load(list_npy[i])\n",
    "    datas[\"Date\"][len(datas[\"Date\"]):] = s[0].tolist()\n",
    "    datas[\"Views\"][len(datas[\"Views\"]):] = s[1].tolist()\n",
    "    datas[\"Artist\"][len(datas[\"Artist\"]):] = [list_npy[i].split(\"\\\\\")[-1]] * len(s[0])"
   ]
  },
  {
   "cell_type": "code",
   "execution_count": 166,
   "id": "8df7f439",
   "metadata": {},
   "outputs": [
    {
     "data": {
      "text/html": [
       "<div>\n",
       "<style scoped>\n",
       "    .dataframe tbody tr th:only-of-type {\n",
       "        vertical-align: middle;\n",
       "    }\n",
       "\n",
       "    .dataframe tbody tr th {\n",
       "        vertical-align: top;\n",
       "    }\n",
       "\n",
       "    .dataframe thead th {\n",
       "        text-align: right;\n",
       "    }\n",
       "</style>\n",
       "<table border=\"1\" class=\"dataframe\">\n",
       "  <thead>\n",
       "    <tr style=\"text-align: right;\">\n",
       "      <th></th>\n",
       "      <th>Date</th>\n",
       "      <th>Views</th>\n",
       "      <th>Artist</th>\n",
       "    </tr>\n",
       "  </thead>\n",
       "  <tbody>\n",
       "    <tr>\n",
       "      <th>0</th>\n",
       "      <td>20211101</td>\n",
       "      <td>244394</td>\n",
       "      <td>nicki-minaj.npy</td>\n",
       "    </tr>\n",
       "    <tr>\n",
       "      <th>1</th>\n",
       "      <td>20211201</td>\n",
       "      <td>289797</td>\n",
       "      <td>nicki-minaj.npy</td>\n",
       "    </tr>\n",
       "    <tr>\n",
       "      <th>2</th>\n",
       "      <td>20220101</td>\n",
       "      <td>265998</td>\n",
       "      <td>nicki-minaj.npy</td>\n",
       "    </tr>\n",
       "    <tr>\n",
       "      <th>3</th>\n",
       "      <td>20220201</td>\n",
       "      <td>333488</td>\n",
       "      <td>nicki-minaj.npy</td>\n",
       "    </tr>\n",
       "    <tr>\n",
       "      <th>4</th>\n",
       "      <td>20220301</td>\n",
       "      <td>255348</td>\n",
       "      <td>nicki-minaj.npy</td>\n",
       "    </tr>\n",
       "    <tr>\n",
       "      <th>...</th>\n",
       "      <td>...</td>\n",
       "      <td>...</td>\n",
       "      <td>...</td>\n",
       "    </tr>\n",
       "    <tr>\n",
       "      <th>379</th>\n",
       "      <td>20220601</td>\n",
       "      <td>217135</td>\n",
       "      <td>r.e.m..npy</td>\n",
       "    </tr>\n",
       "    <tr>\n",
       "      <th>380</th>\n",
       "      <td>20220701</td>\n",
       "      <td>220454</td>\n",
       "      <td>r.e.m..npy</td>\n",
       "    </tr>\n",
       "    <tr>\n",
       "      <th>381</th>\n",
       "      <td>20220801</td>\n",
       "      <td>226586</td>\n",
       "      <td>r.e.m..npy</td>\n",
       "    </tr>\n",
       "    <tr>\n",
       "      <th>382</th>\n",
       "      <td>20220901</td>\n",
       "      <td>215372</td>\n",
       "      <td>r.e.m..npy</td>\n",
       "    </tr>\n",
       "    <tr>\n",
       "      <th>383</th>\n",
       "      <td>20221001</td>\n",
       "      <td>237936</td>\n",
       "      <td>r.e.m..npy</td>\n",
       "    </tr>\n",
       "  </tbody>\n",
       "</table>\n",
       "<p>384 rows × 3 columns</p>\n",
       "</div>"
      ],
      "text/plain": [
       "         Date   Views           Artist\n",
       "0    20211101  244394  nicki-minaj.npy\n",
       "1    20211201  289797  nicki-minaj.npy\n",
       "2    20220101  265998  nicki-minaj.npy\n",
       "3    20220201  333488  nicki-minaj.npy\n",
       "4    20220301  255348  nicki-minaj.npy\n",
       "..        ...     ...              ...\n",
       "379  20220601  217135       r.e.m..npy\n",
       "380  20220701  220454       r.e.m..npy\n",
       "381  20220801  226586       r.e.m..npy\n",
       "382  20220901  215372       r.e.m..npy\n",
       "383  20221001  237936       r.e.m..npy\n",
       "\n",
       "[384 rows x 3 columns]"
      ]
     },
     "execution_count": 166,
     "metadata": {},
     "output_type": "execute_result"
    }
   ],
   "source": [
    "df = p.DataFrame.from_dict(datas, orient='index')\n",
    "df = df.transpose()\n",
    "df"
   ]
  },
  {
   "cell_type": "code",
   "execution_count": null,
   "id": "831fdfc2",
   "metadata": {},
   "outputs": [],
   "source": []
  }
 ],
 "metadata": {
  "kernelspec": {
   "display_name": "Python 3 (ipykernel)",
   "language": "python",
   "name": "python3"
  },
  "language_info": {
   "codemirror_mode": {
    "name": "ipython",
    "version": 3
   },
   "file_extension": ".py",
   "mimetype": "text/x-python",
   "name": "python",
   "nbconvert_exporter": "python",
   "pygments_lexer": "ipython3",
   "version": "3.7.7"
  }
 },
 "nbformat": 4,
 "nbformat_minor": 5
}
